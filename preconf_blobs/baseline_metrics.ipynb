{
 "cells": [
  {
   "cell_type": "code",
   "execution_count": 1,
   "metadata": {},
   "outputs": [],
   "source": [
    "import polars as pl"
   ]
  },
  {
   "cell_type": "code",
   "execution_count": null,
   "metadata": {},
   "outputs": [],
   "source": [
    "# load holesky data\n",
    "holesky_blocks = pl.scan_parquet(\n",
    "    'data/blocks.parquet').rename({'number': 'block_number'}).select('block_number', 'timestamp', 'extra_data', 'blob_gas_used', 'excess_blob_gas', 'base_fee_per_gas').with_columns(pl.from_epoch('timestamp'))\n",
    "holesky_txs = pl.scan_parquet('data/transactions.parquet').select('block_number', 'hash',\n",
    "                                                                  'to', 'from', 'type', 'gas', 'gas_used', 'gas_price', 'effective_gas_price', 'max_priority_fee_per_gas', 'max_fee_per_gas')\n",
    "\n",
    "holesky_blocks_txs = (holesky_txs.join(\n",
    "    holesky_blocks, on='block_number', how='left')\n",
    "    .fill_null(strategy=\"forward\")\n",
    "    .with_columns(\n",
    "        (pl.col(\"base_fee_per_gas\") * pl.col(\"gas_used\")).alias(\"base_tx_fee_eth\"),\n",
    "        (pl.col(\"effective_gas_price\") - pl.col(\"base_fee_per_gas\")).alias(\n",
    "            \"priority_fee_gas\"\n",
    "        )\n",
    ")\n",
    "    .with_columns(\n",
    "        # have to perform priority fee calculation in this column\n",
    "        (((pl.col(\"effective_gas_price\") - pl.col(\"base_fee_per_gas\"))\n",
    "          * pl.col(\"gas_used\")) / 10**18).alias(\"priority_tx_fee_eth\"),\n",
    "        # unit calculations for gwei and eth values\n",
    "        (pl.col(\"base_tx_fee_eth\") / 10**18).alias(\"base_tx_fee_eth\"),\n",
    "        (pl.col(\"priority_fee_gas\") / 10**9).alias(\"priority_fee_gas\"),\n",
    "        (pl.col(\"base_fee_per_gas\") / 10**9).alias(\"base_fee_per_gas\")\n",
    ")\n",
    ")"
   ]
  }
 ],
 "metadata": {
  "kernelspec": {
   "display_name": ".venv",
   "language": "python",
   "name": "python3"
  },
  "language_info": {
   "codemirror_mode": {
    "name": "ipython",
    "version": 3
   },
   "file_extension": ".py",
   "mimetype": "text/x-python",
   "name": "python",
   "nbconvert_exporter": "python",
   "pygments_lexer": "ipython3",
   "version": "3.12.2"
  }
 },
 "nbformat": 4,
 "nbformat_minor": 2
}
